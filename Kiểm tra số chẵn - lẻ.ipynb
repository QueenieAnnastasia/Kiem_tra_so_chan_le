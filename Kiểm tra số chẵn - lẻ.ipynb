{
 "cells": [
  {
   "cell_type": "code",
   "execution_count": null,
   "id": "c79701b8",
   "metadata": {},
   "outputs": [],
   "source": [
    "### Điều kiện\n",
    "## Kiểm tra số chẵn - lẻ\n",
    "a = int(input(\"Nhập vào số bất kỳ: \"))\n",
    "if a % 2 ==0:\n",
    "    print(\"Đây là số chẵn\")\n",
    "elif a % 2 ==1:\n",
    "    print(\"Đây là số lẻ\")\n",
    "else:\n",
    "    print(\"Không phải là số tự nhiên\")"
   ]
  }
 ],
 "metadata": {
  "kernelspec": {
   "display_name": "Python 3 (ipykernel)",
   "language": "python",
   "name": "python3"
  },
  "language_info": {
   "codemirror_mode": {
    "name": "ipython",
    "version": 3
   },
   "file_extension": ".py",
   "mimetype": "text/x-python",
   "name": "python",
   "nbconvert_exporter": "python",
   "pygments_lexer": "ipython3",
   "version": "3.10.5"
  }
 },
 "nbformat": 4,
 "nbformat_minor": 5
}
